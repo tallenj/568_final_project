{
 "cells": [
  {
   "attachments": {},
   "cell_type": "markdown",
   "metadata": {},
   "source": [
    "# Python Learning Tool"
   ]
  },
  {
   "attachments": {},
   "cell_type": "markdown",
   "metadata": {},
   "source": [
    "## Documentation"
   ]
  },
  {
   "attachments": {},
   "cell_type": "markdown",
   "metadata": {},
   "source": [
    "### What is this tool and who is it for?"
   ]
  },
  {
   "attachments": {},
   "cell_type": "markdown",
   "metadata": {},
   "source": [
    "- This tool takes in Python code and returns code that __should__ be easier to learn from.\n",
    "- This is for engineers working with Python code who want to:\n",
    "    - Study past code from the team.\n",
    "    - See a simple example of using OpenAI API.\n",
    "    - Clean up their own or someone elses code before sharing.\n",
    "    - Get help understanding python code from the internet.\n",
    "- You're always welcome to reach out to the original author with questions, but this should help speed up the process for both sides."
   ]
  },
  {
   "attachments": {},
   "cell_type": "markdown",
   "metadata": {},
   "source": [
    "### Why a notebook?"
   ]
  },
  {
   "attachments": {},
   "cell_type": "markdown",
   "metadata": {},
   "source": [
    "You should make a copy of this notebook and feel free to add cells and experiment as needed.\n",
    "\n",
    "This is all in a self-contained notebook so that it can be shared and opened by others; also the ability to output to an .html with ease can be helpful!\n",
    "\n",
    "Also, if you're able to use this notebook then you should be setup to use python with your company PC. The API key is specific to this notebook (for now, may be used more in the future)"
   ]
  },
  {
   "attachments": {},
   "cell_type": "markdown",
   "metadata": {},
   "source": [
    "### Before using this tool"
   ]
  },
  {
   "attachments": {},
   "cell_type": "markdown",
   "metadata": {},
   "source": [
    "- Gain access to:\n",
    "    - VS Code downloaded from Software Center.\n",
    "    - Anaconda from OSS and then downloaded from Software Center.\n",
    "    - Relevant libraries needed (openai for this notebook, your input code may need others).\n",
    "- If you're viewing this through an .html output then you'll need all of the above.\n",
    "- If you're reading this in VS Code already then you should have access to the guide that shows you how to install libraries. (same as the one that showed you how to install VS Code and Python)\n",
    "    - If you got into here some other way (say on your personal pc) then ask your management for help :)\n",
    "- Anaconda OSS requires management approval.\n",
    "- The API key needed for OpenAI will either be your personal account or eventually a team key.\n",
    "    - Management is a good place to ask this to as well.\n",
    "    - This notebook has a place to paste your key into, don't leave the key in the notebook if you plan to share it."
   ]
  },
  {
   "attachments": {},
   "cell_type": "markdown",
   "metadata": {},
   "source": [
    "### What's going on in this notebook?"
   ]
  },
  {
   "attachments": {},
   "cell_type": "markdown",
   "metadata": {},
   "source": [
    "Here's a high level overview of what's going on in the default notebook:\n",
    "- Importing necessary libraries.\n",
    "- Setting up the model.\n",
    "- Getting the code that will be inputted to the API.\n",
    "- Calling the OpenAI API.\n",
    "- Displaying the output from the API."
   ]
  },
  {
   "attachments": {},
   "cell_type": "markdown",
   "metadata": {},
   "source": [
    "### What's next after this notebook?"
   ]
  },
  {
   "attachments": {},
   "cell_type": "markdown",
   "metadata": {},
   "source": [
    "If you'd like to make improvements to this tool great! It will be both helpful to you and the team.\n",
    "\n",
    "Our recommendation is to create the improved version of the file and share it with whoever is currently managaing the Big Data team resources; if you don't know who this is your manager should be able to put you in contact with them as it may have changed since this was written.\n",
    "\n",
    "Some possible improvement (please update this and the rest of the documentation in your new version):\n",
    "- better way to handle API key and a guide for future users."
   ]
  },
  {
   "attachments": {},
   "cell_type": "markdown",
   "metadata": {},
   "source": [
    "## Setup"
   ]
  },
  {
   "attachments": {},
   "cell_type": "markdown",
   "metadata": {},
   "source": [
    "Run each of these setup cells."
   ]
  },
  {
   "attachments": {},
   "cell_type": "markdown",
   "metadata": {},
   "source": [
    "### Library imports"
   ]
  },
  {
   "cell_type": "code",
   "execution_count": null,
   "metadata": {},
   "outputs": [],
   "source": [
    "import os\n",
    "import openai"
   ]
  },
  {
   "attachments": {},
   "cell_type": "markdown",
   "metadata": {},
   "source": [
    "### API key"
   ]
  },
  {
   "attachments": {},
   "cell_type": "markdown",
   "metadata": {},
   "source": [
    "- Paste your API key as a string."
   ]
  },
  {
   "cell_type": "code",
   "execution_count": null,
   "metadata": {},
   "outputs": [],
   "source": [
    "openai.api_key = \"YOUR KEY HERE\"\n",
    "print(openai.api_key)"
   ]
  },
  {
   "attachments": {},
   "cell_type": "markdown",
   "metadata": {},
   "source": [
    "### Prompt"
   ]
  },
  {
   "attachments": {},
   "cell_type": "markdown",
   "metadata": {},
   "source": [
    "This sets up the prompt that will go with your code."
   ]
  },
  {
   "cell_type": "code",
   "execution_count": null,
   "metadata": {},
   "outputs": [],
   "source": [
    "def generate_prompt(code):\n",
    "    return f\"\"\"Python 3\n",
    "\n",
    "{code}\n",
    "\n",
    "Here is some python code, can you:\n",
    "- improve the format\n",
    "- explain what it does in a concsise way\n",
    "- add high quality comments and docstrings\n",
    "\"\"\""
   ]
  },
  {
   "attachments": {},
   "cell_type": "markdown",
   "metadata": {},
   "source": [
    "## Tool"
   ]
  },
  {
   "attachments": {},
   "cell_type": "markdown",
   "metadata": {},
   "source": [
    "Run the setup cells above before going any further"
   ]
  },
  {
   "attachments": {},
   "cell_type": "markdown",
   "metadata": {},
   "source": [
    "### Put input code here"
   ]
  },
  {
   "attachments": {},
   "cell_type": "markdown",
   "metadata": {},
   "source": [
    "- Replace TEST with the python code you want to use then run this cell.\n",
    "- Try not to input too large of scripts or code at once.\n",
    "    - The tool works best when fed small chunks.\n",
    "    - This will also help you to rebuild the code with your new understanding."
   ]
  },
  {
   "cell_type": "code",
   "execution_count": 2,
   "metadata": {},
   "outputs": [],
   "source": [
    "code = r\"\"\"\n",
    "TEST\n",
    "\"\"\"\n",
    "\n",
    "# uncomment this print statement to check your prompt with the code included.\n",
    "# print(generate_prompt(code))"
   ]
  },
  {
   "attachments": {},
   "cell_type": "markdown",
   "metadata": {},
   "source": [
    "### Run this to call the API"
   ]
  },
  {
   "cell_type": "code",
   "execution_count": null,
   "metadata": {},
   "outputs": [],
   "source": [
    "response = openai.ChatCompletion.create(\n",
    "  model=\"gpt-3.5-turbo\",\n",
    "  messages=[\n",
    "    {\"role\": \"system\", \"content\": \"You help engineers learn Python.\"},\n",
    "    {\"role\": \"user\", \"content\": generate_prompt(code)}\n",
    "  ]\n",
    ")"
   ]
  },
  {
   "cell_type": "code",
   "execution_count": null,
   "metadata": {},
   "outputs": [],
   "source": [
    "# uncomment and run this cell if you'd like to see the full response from the API\n",
    "# print(response)"
   ]
  },
  {
   "attachments": {},
   "cell_type": "markdown",
   "metadata": {},
   "source": [
    "### Run the below cell to see modified version"
   ]
  },
  {
   "attachments": {},
   "cell_type": "markdown",
   "metadata": {},
   "source": [
    "You should see the modified code first, then some explanation of the code."
   ]
  },
  {
   "cell_type": "code",
   "execution_count": null,
   "metadata": {},
   "outputs": [],
   "source": [
    "print(response['choices'][0]['message']['content'])"
   ]
  }
 ],
 "metadata": {
  "kernelspec": {
   "display_name": "Python 3",
   "language": "python",
   "name": "python3"
  },
  "language_info": {
   "codemirror_mode": {
    "name": "ipython",
    "version": 3
   },
   "file_extension": ".py",
   "mimetype": "text/x-python",
   "name": "python",
   "nbconvert_exporter": "python",
   "pygments_lexer": "ipython3",
   "version": "3.11.2"
  },
  "orig_nbformat": 4
 },
 "nbformat": 4,
 "nbformat_minor": 2
}
